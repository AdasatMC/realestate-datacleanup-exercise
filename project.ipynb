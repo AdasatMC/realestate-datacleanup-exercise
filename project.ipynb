{
 "cells": [
  {
   "attachments": {},
   "cell_type": "markdown",
   "id": "innocent-university",
   "metadata": {},
   "source": [
    "# Real Estate Clean up\n",
    "\n",
    "This is a real dataset, and it was downloaded using web scraping techniques. The data contains registers from **Fotocasa** which is one of the most popular real estate websites in Spain. Please, do not do this (web scraping) unless it is for academic purposes.\n",
    "\n",
    "The dataset was downloaded a few years ago by Henry Navarro, and in no case were economic returns obtained from it.\n",
    "\n",
    "It contains thousands of data from real houses published on the web www.fotocasa.com. Your goal is to extract as much information as possible with the knowledge you have so far about data science, for example what is the most expensive house in the entire dataset?\n",
    "\n",
    "Let's start with precisely that question... Good luck!"
   ]
  },
  {
   "attachments": {},
   "cell_type": "markdown",
   "id": "multiple-glass",
   "metadata": {},
   "source": [
    "#### Exercise 00. Read the dataset assets/real_estate.csv and try to visualize the table (★☆☆)"
   ]
  },
  {
   "cell_type": "code",
   "execution_count": 12,
   "id": "frank-heath",
   "metadata": {},
   "outputs": [
    {
     "name": "stdout",
     "output_type": "stream",
     "text": [
      "       Unnamed: 0  id_realEstates  isNew                    realEstate_name  \\\n",
      "0               1       153771986  False            ferrari 57 inmobiliaria   \n",
      "1               2       153867863  False  tecnocasa fuenlabrada ferrocarril   \n",
      "2               3       153430440  False                 look find boadilla   \n",
      "3               4       152776331  False  tecnocasa fuenlabrada ferrocarril   \n",
      "4               5       153180188  False            ferrari 57 inmobiliaria   \n",
      "...           ...             ...    ...                                ...   \n",
      "15330       15331       153901377  False                infocasa consulting   \n",
      "15331       15332       150394373  False                inmobiliaria pulpon   \n",
      "15332       15333       153901397  False             tecnocasa torrelodones   \n",
      "15333       15334       152607440  False                inmobiliaria pulpon   \n",
      "15334       15335       153901356  False                infocasa consulting   \n",
      "\n",
      "       phone_realEstate                                       url_inmueble  \\\n",
      "0           912177526.0  https://www.fotocasa.es/es/comprar/vivienda/ma...   \n",
      "1           916358736.0  https://www.fotocasa.es/es/comprar/vivienda/ma...   \n",
      "2           916350408.0  https://www.fotocasa.es/es/comprar/vivienda/ma...   \n",
      "3           916358736.0  https://www.fotocasa.es/es/comprar/vivienda/ma...   \n",
      "4           912177526.0  https://www.fotocasa.es/es/comprar/vivienda/ma...   \n",
      "...                 ...                                                ...   \n",
      "15330       911360461.0  https://www.fotocasa.es/es/comprar/vivienda/ma...   \n",
      "15331       912788039.0  https://www.fotocasa.es/es/comprar/vivienda/ma...   \n",
      "15332       912780348.0  https://www.fotocasa.es/es/comprar/vivienda/ma...   \n",
      "15333       912788039.0  https://www.fotocasa.es/es/comprar/vivienda/ma...   \n",
      "15334       911360461.0  https://www.fotocasa.es/es/comprar/vivienda/ma...   \n",
      "\n",
      "       rooms  bathrooms  surface   price  ... level4Id level5Id level6Id  \\\n",
      "0        3.0        2.0    103.0  195000  ...        0        0        0   \n",
      "1        3.0        1.0      NaN   89000  ...        0        0        0   \n",
      "2        2.0        2.0     99.0  390000  ...        0        0        0   \n",
      "3        3.0        1.0     86.0   89000  ...        0        0        0   \n",
      "4        2.0        2.0    106.0  172000  ...        0        0        0   \n",
      "...      ...        ...      ...     ...  ...      ...      ...      ...   \n",
      "15330    2.0        1.0     96.0  259470  ...        0        0        0   \n",
      "15331    3.0        1.0    150.0  165000  ...        0        0        0   \n",
      "15332    4.0        2.0    175.0  495000  ...        0        0        0   \n",
      "15333    3.0        2.0    101.0  195000  ...        0        0        0   \n",
      "15334    3.0        2.0    152.0  765000  ...        0        0        0   \n",
      "\n",
      "      level7Id level8Id accuracy          latitude          longitude zipCode  \\\n",
      "0            0        0        0  40,2948276786438  -3,44402412135624     NaN   \n",
      "1            0        0        1          40,28674           -3,79351     NaN   \n",
      "2            0        0        0  40,4115646786438  -3,90662252135624     NaN   \n",
      "3            0        0        0  40,2853785786438  -3,79508142135624     NaN   \n",
      "4            0        0        0  40,2998774864376  -3,45226301356237     NaN   \n",
      "...        ...      ...      ...               ...                ...     ...   \n",
      "15330        0        0        0          40,45416           -3,70286     NaN   \n",
      "15331        0        0        0          40,36652           -3,48951     NaN   \n",
      "15332        0        0        0          40,57444           -3,92124     NaN   \n",
      "15333        0        0        0          40,36967           -3,48105     NaN   \n",
      "15334        0        0        0          40,45773           -3,69068     NaN   \n",
      "\n",
      "      customZone  \n",
      "0            NaN  \n",
      "1            NaN  \n",
      "2            NaN  \n",
      "3            NaN  \n",
      "4            NaN  \n",
      "...          ...  \n",
      "15330        NaN  \n",
      "15331        NaN  \n",
      "15332        NaN  \n",
      "15333        NaN  \n",
      "15334        NaN  \n",
      "\n",
      "[15335 rows x 37 columns]\n"
     ]
    }
   ],
   "source": [
    "import pandas as pd\n",
    "\n",
    "\n",
    "data_set = pd.read_csv('assets/real_estate.csv', sep=';')\n",
    "print(data_set)\n"
   ]
  },
  {
   "attachments": {},
   "cell_type": "markdown",
   "id": "latin-guest",
   "metadata": {},
   "source": [
    "#### Exercise 01. Which is the most expensive house in the dataset? (★☆☆)\n",
    "\n",
    "Print the address and the price of the selected house. For example:\n",
    "\n",
    "`The house with address General Street Nº5 is the most expensive and its price is 5000000 USD`"
   ]
  },
  {
   "cell_type": "code",
   "execution_count": 15,
   "id": "developing-optimum",
   "metadata": {},
   "outputs": [
    {
     "name": "stdout",
     "output_type": "stream",
     "text": [
      "la casa de la inmobliaria engel volkers torrelodones es la más cara y su precio es  8500000 USD\n"
     ]
    }
   ],
   "source": [
    "# TODO\n",
    "import pandas as pd\n",
    "\n",
    "data_set= pd.read_csv('assets/real_estate.csv', sep=';')\n",
    "\n",
    "ds = pd.DataFrame(data_set)\n",
    "\n",
    "casa_mas_cara = ds.loc[ds['price'].idxmax()]\n",
    "\n",
    "direccion = casa_mas_cara['realEstate_name']\n",
    "price = casa_mas_cara['price']\n",
    "\n",
    "print(f\"la casa de la inmobliaria {direccion} es la más cara y su precio es  {price} euros\")\n"
   ]
  },
  {
   "attachments": {},
   "cell_type": "markdown",
   "id": "lesser-cosmetic",
   "metadata": {},
   "source": [
    "#### Exercise 02. Which is the cheapest house in the dataset? (★☆☆)\n",
    "\n",
    "Print the address and the price of the selected house. For example:\n",
    "\n",
    "`The house with address Concrete Street Nº1 is the cheapest and its price is 12000 USD`"
   ]
  },
  {
   "cell_type": "code",
   "execution_count": 39,
   "id": "lovely-oasis",
   "metadata": {},
   "outputs": [
    {
     "name": "stdout",
     "output_type": "stream",
     "text": [
      "la casa de la inmobliaria esalje es la más barata y su precio es  0 euros\n"
     ]
    }
   ],
   "source": [
    "# TODO\n",
    "import pandas as pd\n",
    "\n",
    "data_set= pd.read_csv('assets/real_estate.csv', sep=';')\n",
    "\n",
    "ds = pd.DataFrame(data_set)\n",
    "\n",
    "\n",
    "casa_mas_barata = ds.loc[ds['price'].idxmin()]\n",
    "\n",
    "direccion = casa_mas_barata['realEstate_name']\n",
    "price = casa_mas_barata['price']\n",
    "\n",
    "print(f\"la casa de la inmobliaria {direccion} es la más barata y su precio es  {price} euros\")\n"
   ]
  },
  {
   "attachments": {},
   "cell_type": "markdown",
   "id": "compliant-fellowship",
   "metadata": {},
   "source": [
    "#### Exercise 03. Which is the biggest and the smallest house in the dataset? (★☆☆)\n",
    "\n",
    "Print both the address and the surface of the selected houses. For example:\n",
    "\n",
    "`The biggest house is located on Yukka Street Nº10 and its surface is 5000 meters`\n",
    "\n",
    "`The smallest house is located on County Road 1 N and its surface is 200 meters`"
   ]
  },
  {
   "cell_type": "code",
   "execution_count": 28,
   "id": "every-tiffany",
   "metadata": {},
   "outputs": [
    {
     "name": "stdout",
     "output_type": "stream",
     "text": [
      "la casa de la inmobliaria habitarium inmobiliaria es la más grande y su superficie es de 249000.0 metros\n",
      "la casa de la inmobliaria toledo21 es la más pequeña y su superficie es de 15.0 metros\n"
     ]
    }
   ],
   "source": [
    "# TODO\n",
    "import pandas as pd\n",
    "\n",
    "data_set = pd.read_csv('assets/real_estate.csv', sep=';')\n",
    "\n",
    "ds = pd.DataFrame(data_set)\n",
    "\n",
    "casa_mas_grande = ds.loc[ds['surface'].idxmax()]\n",
    "casa_mas_pequeña = ds.loc[ds['surface'].idxmin()]\n",
    "\n",
    "direccion = casa_mas_grande['realEstate_name']\n",
    "direccion_b = casa_mas_pequeña['realEstate_name']\n",
    "\n",
    "superficie = casa_mas_grande['surface']\n",
    "superficie_b = casa_mas_pequeña['surface']\n",
    "\n",
    "# Mostrar el resultado\n",
    "print(f\"la casa de la inmobliaria {direccion} es la más grande y su superficie es de {superficie} metros\")\n",
    "print(f\"la casa de la inmobliaria {direccion_b} es la más pequeña y su superficie es de {superficie_b} metros\")\n"
   ]
  },
  {
   "attachments": {},
   "cell_type": "markdown",
   "id": "danish-spirit",
   "metadata": {},
   "source": [
    "#### Exercise 04. How many populations (level5 column) the dataset contains? (★☆☆)\n",
    "\n",
    "Print the names of the populations with a comma as a separator. For example:\n",
    "\n",
    "`> print(populations)`\n",
    "\n",
    "`population1, population2, population3, ...`"
   ]
  },
  {
   "cell_type": "code",
   "execution_count": 42,
   "id": "exciting-accreditation",
   "metadata": {},
   "outputs": [
    {
     "name": "stdout",
     "output_type": "stream",
     "text": [
      "0\n"
     ]
    }
   ],
   "source": [
    "# TODO\n",
    "import pandas as pd\n",
    "\n",
    "data_set = pd.read_csv('assets/real_estate.csv', sep=';')\n",
    "\n",
    "ds = pd.DataFrame(data_set)\n",
    "\n",
    "\n",
    "populations = ds['level5Id'].unique().astype(str)\n",
    "\n",
    "\n",
    "populations_str = ', '.join(populations)\n",
    "\n",
    "\n",
    "print(populations_str)\n",
    "\n",
    "\n",
    "\n"
   ]
  },
  {
   "attachments": {},
   "cell_type": "markdown",
   "id": "crazy-blame",
   "metadata": {},
   "source": [
    "#### Exercise 05. Does the dataset contain NAs? (★☆☆)\n",
    "\n",
    "Print a boolean value (`True` or `False`) followed by the rows/cols that contains NAs."
   ]
  },
  {
   "cell_type": "code",
   "execution_count": 43,
   "id": "transparent-poetry",
   "metadata": {},
   "outputs": [
    {
     "name": "stdout",
     "output_type": "stream",
     "text": [
      "       Unnamed: 0  id_realEstates  isNew                    realEstate_name  \\\n",
      "0               1       153771986  False            ferrari 57 inmobiliaria   \n",
      "1               2       153867863  False  tecnocasa fuenlabrada ferrocarril   \n",
      "2               3       153430440  False                 look find boadilla   \n",
      "3               4       152776331  False  tecnocasa fuenlabrada ferrocarril   \n",
      "4               5       153180188  False            ferrari 57 inmobiliaria   \n",
      "...           ...             ...    ...                                ...   \n",
      "15330       15331       153901377  False                infocasa consulting   \n",
      "15331       15332       150394373  False                inmobiliaria pulpon   \n",
      "15332       15333       153901397  False             tecnocasa torrelodones   \n",
      "15333       15334       152607440  False                inmobiliaria pulpon   \n",
      "15334       15335       153901356  False                infocasa consulting   \n",
      "\n",
      "       phone_realEstate                                       url_inmueble  \\\n",
      "0           912177526.0  https://www.fotocasa.es/es/comprar/vivienda/ma...   \n",
      "1           916358736.0  https://www.fotocasa.es/es/comprar/vivienda/ma...   \n",
      "2           916350408.0  https://www.fotocasa.es/es/comprar/vivienda/ma...   \n",
      "3           916358736.0  https://www.fotocasa.es/es/comprar/vivienda/ma...   \n",
      "4           912177526.0  https://www.fotocasa.es/es/comprar/vivienda/ma...   \n",
      "...                 ...                                                ...   \n",
      "15330       911360461.0  https://www.fotocasa.es/es/comprar/vivienda/ma...   \n",
      "15331       912788039.0  https://www.fotocasa.es/es/comprar/vivienda/ma...   \n",
      "15332       912780348.0  https://www.fotocasa.es/es/comprar/vivienda/ma...   \n",
      "15333       912788039.0  https://www.fotocasa.es/es/comprar/vivienda/ma...   \n",
      "15334       911360461.0  https://www.fotocasa.es/es/comprar/vivienda/ma...   \n",
      "\n",
      "       rooms  bathrooms  surface   price  ... level4Id level5Id level6Id  \\\n",
      "0        3.0        2.0    103.0  195000  ...        0        0        0   \n",
      "1        3.0        1.0      NaN   89000  ...        0        0        0   \n",
      "2        2.0        2.0     99.0  390000  ...        0        0        0   \n",
      "3        3.0        1.0     86.0   89000  ...        0        0        0   \n",
      "4        2.0        2.0    106.0  172000  ...        0        0        0   \n",
      "...      ...        ...      ...     ...  ...      ...      ...      ...   \n",
      "15330    2.0        1.0     96.0  259470  ...        0        0        0   \n",
      "15331    3.0        1.0    150.0  165000  ...        0        0        0   \n",
      "15332    4.0        2.0    175.0  495000  ...        0        0        0   \n",
      "15333    3.0        2.0    101.0  195000  ...        0        0        0   \n",
      "15334    3.0        2.0    152.0  765000  ...        0        0        0   \n",
      "\n",
      "      level7Id level8Id accuracy          latitude          longitude zipCode  \\\n",
      "0            0        0        0  40,2948276786438  -3,44402412135624     NaN   \n",
      "1            0        0        1          40,28674           -3,79351     NaN   \n",
      "2            0        0        0  40,4115646786438  -3,90662252135624     NaN   \n",
      "3            0        0        0  40,2853785786438  -3,79508142135624     NaN   \n",
      "4            0        0        0  40,2998774864376  -3,45226301356237     NaN   \n",
      "...        ...      ...      ...               ...                ...     ...   \n",
      "15330        0        0        0          40,45416           -3,70286     NaN   \n",
      "15331        0        0        0          40,36652           -3,48951     NaN   \n",
      "15332        0        0        0          40,57444           -3,92124     NaN   \n",
      "15333        0        0        0          40,36967           -3,48105     NaN   \n",
      "15334        0        0        0          40,45773           -3,69068     NaN   \n",
      "\n",
      "      customZone  \n",
      "0            NaN  \n",
      "1            NaN  \n",
      "2            NaN  \n",
      "3            NaN  \n",
      "4            NaN  \n",
      "...          ...  \n",
      "15330        NaN  \n",
      "15331        NaN  \n",
      "15332        NaN  \n",
      "15333        NaN  \n",
      "15334        NaN  \n",
      "\n",
      "[15335 rows x 37 columns]\n",
      "Index(['realEstate_name', 'phone_realEstate', 'rooms', 'bathrooms', 'surface',\n",
      "       'description', 'level4', 'level6', 'level7', 'level8', 'zipCode',\n",
      "       'customZone'],\n",
      "      dtype='object')\n"
     ]
    }
   ],
   "source": [
    "# TODO\n",
    "import pandas as pd\n",
    "\n",
    "data_set = pd.read_csv('assets/real_estate.csv', sep=';')\n",
    "\n",
    "ds = pd.DataFrame(data_set)\n",
    "\n",
    "\n",
    "tienen_na = ds.isnull().values.any()\n",
    "\n",
    "# Obtener las filas y columnas que contienen valores NA\n",
    "filas_na = ds[ds.isnull().any(axis=1)]\n",
    "colum_na = ds.columns[ds.isnull().any()]\n",
    "\n",
    "# Mostrar si contiene NA y cuáles son las filas/columnas afectadas\n",
    "print(filas_na)\n",
    "print(colum_na)"
   ]
  },
  {
   "attachments": {},
   "cell_type": "markdown",
   "id": "italic-hydrogen",
   "metadata": {},
   "source": [
    "#### Exercise 06. Delete the NAs of the dataset, if applicable (★★☆)\n",
    "\n",
    "Print a comparison between the dimensions of the original DataFrame versus the DataFrame after the deletions."
   ]
  },
  {
   "cell_type": "code",
   "execution_count": 1,
   "id": "administrative-roads",
   "metadata": {},
   "outputs": [
    {
     "name": "stdout",
     "output_type": "stream",
     "text": [
      "Dimensiones originales: (15335, 37)\n",
      "Dimensiones después de eliminar NA: (0, 37)\n"
     ]
    }
   ],
   "source": [
    "# TODO\n",
    "\n",
    "import pandas as pd\n",
    "\n",
    "# Cargar el dataset\n",
    "data_set = pd.read_csv('assets/real_estate.csv', sep=';')\n",
    "\n",
    "# Convertir el dataset en un DataFrame\n",
    "ds = pd.DataFrame(data_set)\n",
    "\n",
    "# Obtener las dimensiones del DataFrame original\n",
    "original_shape = ds.shape\n",
    "\n",
    "# Eliminar los valores faltantes (NA) del DataFrame\n",
    "ds_cleaned = ds.dropna()\n",
    "\n",
    "# Obtener las dimensiones del DataFrame después de eliminar los NA\n",
    "cleaned_shape = ds_cleaned.shape\n",
    "\n",
    "# Imprimir la comparación de dimensiones\n",
    "print(f'Dimensiones originales: {original_shape}')\n",
    "print(f'Dimensiones después de eliminar NA: {cleaned_shape}')\n"
   ]
  },
  {
   "cell_type": "code",
   "execution_count": null,
   "id": "6cc1e424",
   "metadata": {},
   "outputs": [],
   "source": []
  },
  {
   "attachments": {},
   "cell_type": "markdown",
   "id": "middle-china",
   "metadata": {},
   "source": [
    "#### Exercise 07. Which is the mean of prices in the population (level5 column) of \"Arroyomolinos (Madrid)\"? (★★☆)\n",
    "\n",
    "Print the obtained value."
   ]
  },
  {
   "cell_type": "code",
   "execution_count": 2,
   "id": "nuclear-belief",
   "metadata": {},
   "outputs": [
    {
     "name": "stdout",
     "output_type": "stream",
     "text": [
      "La media de los precios en Arroyomolinos (Madrid) es: 294541.59854014596\n"
     ]
    }
   ],
   "source": [
    "# TODO\n",
    "\n",
    "\n",
    "import pandas as pd\n",
    "\n",
    "# Cargar el dataset\n",
    "data_set = pd.read_csv('assets/real_estate.csv', sep=';')\n",
    "\n",
    "# Convertir el dataset en un DataFrame\n",
    "ds = pd.DataFrame(data_set)\n",
    "\n",
    "# Filtrar el DataFrame para \"Arroyomolinos (Madrid)\"\n",
    "arroyomolinos_df = ds[ds['level5'] == 'Arroyomolinos (Madrid)']\n",
    "\n",
    "# Calcular la media de los precios en la columna de precios (por ejemplo, 'price')\n",
    "mean_price = arroyomolinos_df['price'].mean()\n",
    "\n",
    "# Imprimir el resultado\n",
    "print(f'La media de los precios en Arroyomolinos (Madrid) es: {mean_price}')\n"
   ]
  },
  {
   "attachments": {},
   "cell_type": "markdown",
   "id": "concerned-radical",
   "metadata": {},
   "source": [
    "#### Exercise 08. Plot the histogram of prices for the population (level5 column) of \"Arroyomolinos (Madrid)\" and explain what you observe (★★☆)\n",
    "\n",
    "Print the histogram of the prices and write in the Markdown cell a brief analysis about the plot."
   ]
  },
  {
   "cell_type": "code",
   "execution_count": 3,
   "id": "sudden-message",
   "metadata": {},
   "outputs": [
    {
     "data": {
      "image/png": "[encoded data removed]",
      "text/plain": [
       "<Figure size 800x600 with 1 Axes>"
      ]
     },
     "metadata": {},
     "output_type": "display_data"
    }
   ],
   "source": [
    "# TODO: Code\n",
    "\n",
    "import pandas as pd\n",
    "import matplotlib.pyplot as plt\n",
    "\n",
    "# Cargar el dataset\n",
    "data_set = pd.read_csv('assets/real_estate.csv', sep=';')\n",
    "\n",
    "# Convertir el dataset en un DataFrame\n",
    "ds = pd.DataFrame(data_set)\n",
    "\n",
    "# Filtrar el DataFrame para \"Arroyomolinos (Madrid)\"\n",
    "arroyomolinos_df = ds[ds['level5'] == 'Arroyomolinos (Madrid)']\n",
    "\n",
    "# Crear un histograma de los precios\n",
    "plt.figure(figsize=(8, 6))\n",
    "plt.hist(arroyomolinos_df['price'], bins=20, color='skyblue', edgecolor='black')\n",
    "plt.title('Histograma de Precios en Arroyomolinos (Madrid)')\n",
    "plt.xlabel('Precio')\n",
    "plt.ylabel('Frecuencia')\n",
    "plt.grid(True)\n",
    "plt.show()\n"
   ]
  },
  {
   "attachments": {},
   "cell_type": "markdown",
   "id": "impressed-combination",
   "metadata": {},
   "source": [
    "**TODO: Markdown**. To write here, double-click on this cell, remove this content and place the text you want to write. Then, execute the cell."
   ]
  },
  {
   "attachments": {},
   "cell_type": "markdown",
   "id": "actual-edinburgh",
   "metadata": {},
   "source": [
    "#### Exercise 09. Are the average prices of \"Valdemorillo\" and \"Galapagar\" the same? (★★☆)\n",
    "\n",
    "Print both average prices and then write a conclusion about them."
   ]
  },
  {
   "cell_type": "code",
   "execution_count": 4,
   "id": "numeric-commerce",
   "metadata": {},
   "outputs": [
    {
     "name": "stdout",
     "output_type": "stream",
     "text": [
      "La media de precios en Valdemorillo es: 363860.2931034483\n",
      "La media de precios en Galapagar es: 360063.20238095237\n",
      "Los precios promedio en Valdemorillo y Galapagar son diferentes.\n"
     ]
    }
   ],
   "source": [
    "# TODO\n",
    "\n",
    "\n",
    "import pandas as pd\n",
    "\n",
    "# Cargar el dataset\n",
    "data_set = pd.read_csv('assets/real_estate.csv', sep=';')\n",
    "\n",
    "# Convertir el dataset en un DataFrame\n",
    "ds = pd.DataFrame(data_set)\n",
    "\n",
    "# Filtrar los DataFrames para \"Valdemorillo\" y \"Galapagar\"\n",
    "valdemorillo_df = ds[ds['level5'] == 'Valdemorillo']\n",
    "galapagar_df = ds[ds['level5'] == 'Galapagar']\n",
    "\n",
    "# Calcular las medias de precios para ambas poblaciones\n",
    "mean_price_valdemorillo = valdemorillo_df['price'].mean()\n",
    "mean_price_galapagar = galapagar_df['price'].mean()\n",
    "\n",
    "# Imprimir los resultados\n",
    "print(f'La media de precios en Valdemorillo es: {mean_price_valdemorillo}')\n",
    "print(f'La media de precios en Galapagar es: {mean_price_galapagar}')\n",
    "\n",
    "# Conclusión\n",
    "if mean_price_valdemorillo == mean_price_galapagar:\n",
    "    print(\"Los precios promedio en Valdemorillo y Galapagar son iguales.\")\n",
    "else:\n",
    "    print(\"Los precios promedio en Valdemorillo y Galapagar son diferentes.\")\n"
   ]
  },
  {
   "attachments": {},
   "cell_type": "markdown",
   "id": "lonely-article",
   "metadata": {},
   "source": [
    "#### Exercise 10. Are the average prices per square meter (price/m2) of \"Valdemorillo\" and \"Galapagar\" the same? (★★☆)\n",
    "\n",
    "Print both average prices and then write a conclusion about it.\n",
    "\n",
    "Hint: Create a new column called `pps` (price per square meter) and then analyze the values."
   ]
  },
  {
   "cell_type": "code",
   "execution_count": 1,
   "id": "hourly-globe",
   "metadata": {},
   "outputs": [
    {
     "name": "stdout",
     "output_type": "stream",
     "text": [
      "La media de precio por metro cuadrado en Valdemorillo es: 1317.9502109024986\n",
      "La media de precio por metro cuadrado en Galapagar es: 1606.3240303094024\n",
      "Los precios promedio por metro cuadrado en Valdemorillo y Galapagar son diferentes.\n"
     ]
    }
   ],
   "source": [
    "# TODO\n",
    "\n",
    "import pandas as pd\n",
    "\n",
    "# Cargar el dataset\n",
    "data_set = pd.read_csv('assets/real_estate.csv', sep=';')\n",
    "\n",
    "# Convertir el dataset en un DataFrame\n",
    "ds = pd.DataFrame(data_set)\n",
    "\n",
    "# Crear una nueva columna 'pps' (precio por metro cuadrado) usando la columna 'surface' en lugar de 'm2'\n",
    "ds['pps'] = ds['price'] / ds['surface']\n",
    "\n",
    "# Filtrar los DataFrames para \"Valdemorillo\" y \"Galapagar\"\n",
    "valdemorillo_df = ds[ds['level5'] == 'Valdemorillo']\n",
    "galapagar_df = ds[ds['level5'] == 'Galapagar']\n",
    "\n",
    "# Calcular las medias de precios por metro cuadrado para ambas poblaciones\n",
    "mean_pps_valdemorillo = valdemorillo_df['pps'].mean()\n",
    "mean_pps_galapagar = galapagar_df['pps'].mean()\n",
    "\n",
    "# Imprimir los resultados\n",
    "print(f'La media de precio por metro cuadrado en Valdemorillo es: {mean_pps_valdemorillo}')\n",
    "print(f'La media de precio por metro cuadrado en Galapagar es: {mean_pps_galapagar}')\n",
    "\n",
    "# Conclusión\n",
    "if mean_pps_valdemorillo == mean_pps_galapagar:\n",
    "    print(\"Los precios promedio por metro cuadrado en Valdemorillo y Galapagar son iguales.\")\n",
    "else:\n",
    "    print(\"Los precios promedio por metro cuadrado en Valdemorillo y Galapagar son diferentes.\")\n",
    "\n"
   ]
  },
  {
   "attachments": {},
   "cell_type": "markdown",
   "id": "pleasant-invite",
   "metadata": {},
   "source": [
    "#### Exercise 11. Analyze the relation between the surface and the price of the houses (★★☆)\n",
    "\n",
    "Hint: You can make a `scatter plot`, then write a conclusion about it."
   ]
  },
  {
   "cell_type": "code",
   "execution_count": 3,
   "id": "common-drilling",
   "metadata": {},
   "outputs": [
    {
     "data": {
      "image/png": "[encoded data removed]",
      "text/plain": [
       "<Figure size 1000x600 with 1 Axes>"
      ]
     },
     "metadata": {},
     "output_type": "display_data"
    }
   ],
   "source": [
    "# TODO: Code\n",
    "\n",
    "import pandas as pd\n",
    "import matplotlib.pyplot as plt\n",
    "import seaborn as sns\n",
    "\n",
    "# Cargar el dataset\n",
    "data_set = pd.read_csv('assets/real_estate.csv', sep=';')\n",
    "\n",
    "# Convertir el dataset en un DataFrame\n",
    "ds = pd.DataFrame(data_set)\n",
    "\n",
    "# Eliminar filas con valores nulos en las columnas 'price' y 'surface'\n",
    "ds_clean = ds.dropna(subset=['price', 'surface'])\n",
    "\n",
    "# Configuración del estilo de Seaborn\n",
    "sns.set(style=\"whitegrid\")\n",
    "\n",
    "# Crear el scatter plot\n",
    "plt.figure(figsize=(10, 6))\n",
    "sns.scatterplot(x='surface', y='price', data=ds_clean)\n",
    "\n",
    "# Etiquetas de los ejes\n",
    "plt.title('Scatter plot: Surface vs Price')\n",
    "plt.xlabel('Surface (m²)')\n",
    "plt.ylabel('Price (€)')\n",
    "\n",
    "# Mostrar el gráfico\n",
    "plt.show()\n"
   ]
  },
  {
   "attachments": {},
   "cell_type": "markdown",
   "id": "ahead-liquid",
   "metadata": {},
   "source": [
    "**TODO: Markdown**. To write here, double-click on this cell, remove this content and place the text you want to write. Then, execute the cell."
   ]
  },
  {
   "attachments": {},
   "cell_type": "markdown",
   "id": "coordinate-sunrise",
   "metadata": {},
   "source": [
    "#### Exercise 12. How many real estate agencies does the dataset contain? (★★☆)\n",
    "\n",
    "Print the obtained value."
   ]
  },
  {
   "cell_type": "code",
   "execution_count": 4,
   "id": "valid-honolulu",
   "metadata": {},
   "outputs": [
    {
     "name": "stdout",
     "output_type": "stream",
     "text": [
      "El número de agencias inmobiliarias en el dataset es: 1821\n"
     ]
    }
   ],
   "source": [
    "# TODO\n",
    "\n",
    "import pandas as pd\n",
    "\n",
    "# Cargar el dataset\n",
    "data_set = pd.read_csv('assets/real_estate.csv', sep=';')\n",
    "\n",
    "# Convertir el dataset en un DataFrame\n",
    "ds = pd.DataFrame(data_set)\n",
    "\n",
    "# Contar el número de agencias inmobiliarias únicas\n",
    "num_real_estates = ds['realEstate_name'].nunique()\n",
    "\n",
    "# Imprimir el resultado\n",
    "print(f'El número de agencias inmobiliarias en el dataset es: {num_real_estates}')\n"
   ]
  },
  {
   "attachments": {},
   "cell_type": "markdown",
   "id": "binding-ebony",
   "metadata": {},
   "source": [
    "#### Exercise 13. Which is the population (level5 column) that contains the most houses? (★★☆)\n",
    "\n",
    "Print both the population and the number of houses."
   ]
  },
  {
   "cell_type": "code",
   "execution_count": 5,
   "id": "static-perry",
   "metadata": {},
   "outputs": [
    {
     "name": "stdout",
     "output_type": "stream",
     "text": [
      "La población con más casas es:  Madrid Capital, con 6643 casas\n"
     ]
    }
   ],
   "source": [
    "# TODO\n",
    "\n",
    "import pandas as pd\n",
    "\n",
    "# Cargar el dataset\n",
    "data_set = pd.read_csv('assets/real_estate.csv', sep=';')\n",
    "\n",
    "# Convertir el dataset en un DataFrame\n",
    "ds = pd.DataFrame(data_set)\n",
    "\n",
    "# Contar cuántas casas hay en cada población ('level5') y obtener la población con más casas\n",
    "most_houses_population = ds['level5'].value_counts().idxmax()\n",
    "num_houses = ds['level5'].value_counts().max()\n",
    "\n",
    "# Imprimir el resultado\n",
    "print(f'La población con más casas es: {most_houses_population}, con {num_houses} casas')\n"
   ]
  },
  {
   "attachments": {},
   "cell_type": "markdown",
   "id": "entire-classification",
   "metadata": {},
   "source": [
    "#### Exercise 14. Now let's work with the \"south belt\" of Madrid. Make a subset of the original DataFrame that contains the following populations (level5 column): \"Fuenlabrada\", \"Leganés\", \"Getafe\", \"Alcorcón\" (★★☆)\n",
    "\n",
    "Hint: Filter the original DataFrame using the column `level5` and the function `isin`."
   ]
  },
  {
   "cell_type": "code",
   "execution_count": 6,
   "id": "binary-input",
   "metadata": {},
   "outputs": [
    {
     "name": "stdout",
     "output_type": "stream",
     "text": [
      "       Unnamed: 0  id_realEstates  isNew  \\\n",
      "1               2       153867863  False   \n",
      "3               4       152776331  False   \n",
      "85             86       153152077  False   \n",
      "94             95       153995577  False   \n",
      "109           110       153586414  False   \n",
      "...           ...             ...    ...   \n",
      "15275       15276       153903887  False   \n",
      "15291       15292       151697757  False   \n",
      "15305       15306       153902389  False   \n",
      "15322       15323       153871864  False   \n",
      "15325       15326       153901467  False   \n",
      "\n",
      "                                 realEstate_name  phone_realEstate  \\\n",
      "1              tecnocasa fuenlabrada ferrocarril       916358736.0   \n",
      "3              tecnocasa fuenlabrada ferrocarril       916358736.0   \n",
      "85                       sinergical inmobiliaria               NaN   \n",
      "94                               viviendas365com       911226014.0   \n",
      "109              area uno asesores inmobiliarios       912664081.0   \n",
      "...                                          ...               ...   \n",
      "15275  aliseda servicios de gestion inmobiliaria       911368198.0   \n",
      "15291                                    unipiso       912788631.0   \n",
      "15305                             jadein ferrero       914871639.0   \n",
      "15322                          gestion comercial       911220662.0   \n",
      "15325                              montehogar 68       911790675.0   \n",
      "\n",
      "                                            url_inmueble  rooms  bathrooms  \\\n",
      "1      https://www.fotocasa.es/es/comprar/vivienda/ma...    3.0        1.0   \n",
      "3      https://www.fotocasa.es/es/comprar/vivienda/ma...    3.0        1.0   \n",
      "85     https://www.fotocasa.es/es/comprar/vivienda/le...    1.0        1.0   \n",
      "94     https://www.fotocasa.es/es/comprar/vivienda/le...    3.0        2.0   \n",
      "109    https://www.fotocasa.es/es/comprar/vivienda/ma...    3.0        3.0   \n",
      "...                                                  ...    ...        ...   \n",
      "15275  https://www.fotocasa.es/es/comprar/vivienda/al...    3.0        1.0   \n",
      "15291  https://www.fotocasa.es/es/comprar/vivienda/al...    3.0        2.0   \n",
      "15305  https://www.fotocasa.es/es/comprar/vivienda/ma...    3.0        2.0   \n",
      "15322  https://www.fotocasa.es/es/comprar/vivienda/ma...    3.0        1.0   \n",
      "15325  https://www.fotocasa.es/es/comprar/vivienda/ma...    2.0        2.0   \n",
      "\n",
      "       surface   price  ... level4Id level5Id level6Id level7Id level8Id  \\\n",
      "1          NaN   89000  ...        0        0        0        0        0   \n",
      "3         86.0   89000  ...        0        0        0        0        0   \n",
      "85        50.0  107000  ...        0        0        0        0        0   \n",
      "94       120.0  320000  ...        0        0        0        0        0   \n",
      "109      142.0  425000  ...        0        0        0        0        0   \n",
      "...        ...     ...  ...      ...      ...      ...      ...      ...   \n",
      "15275     78.0  138000  ...        0        0        0        0        0   \n",
      "15291    110.0  279000  ...        0        0        0        0        0   \n",
      "15305     85.0  170000  ...        0        0        0        0        0   \n",
      "15322     91.0  112000  ...        0        0        0        0        0   \n",
      "15325     99.0  215000  ...        0        0        0        0        0   \n",
      "\n",
      "      accuracy          latitude          longitude zipCode customZone  \n",
      "1            1          40,28674           -3,79351     NaN        NaN  \n",
      "3            0  40,2853785786438  -3,79508142135624     NaN        NaN  \n",
      "85           1          40,35059           -3,82693     NaN        NaN  \n",
      "94           0          40,31933           -3,77574     NaN        NaN  \n",
      "109          0        40,3313411         -3,8313868     NaN        NaN  \n",
      "...        ...               ...                ...     ...        ...  \n",
      "15275        1          40,31381           -3,83733     NaN        NaN  \n",
      "15291        0        40,3259051           -3,76318     NaN        NaN  \n",
      "15305        0        40,2882193         -3,8098617     NaN        NaN  \n",
      "15322        0          40,28282           -3,78892     NaN        NaN  \n",
      "15325        1          40,28062           -3,79869     NaN        NaN  \n",
      "\n",
      "[907 rows x 37 columns]\n"
     ]
    }
   ],
   "source": [
    "# TODO\n",
    "\n",
    "import pandas as pd\n",
    "\n",
    "# Cargar el dataset\n",
    "data_set = pd.read_csv('assets/real_estate.csv', sep=';')\n",
    "\n",
    "# Convertir el dataset en un DataFrame\n",
    "ds = pd.DataFrame(data_set)\n",
    "\n",
    "# Definir las poblaciones del cinturón sur de Madrid\n",
    "south_belt_populations = [\"Fuenlabrada\", \"Leganés\", \"Getafe\", \"Alcorcón\"]\n",
    "\n",
    "# Filtrar el DataFrame para obtener solo las poblaciones del cinturón sur\n",
    "south_belt_df = ds[ds['level5'].isin(south_belt_populations)]\n",
    "\n",
    "# Imprimir el subconjunto del DataFrame\n",
    "print(south_belt_df)\n"
   ]
  },
  {
   "attachments": {},
   "cell_type": "markdown",
   "id": "severe-fisher",
   "metadata": {},
   "source": [
    "#### Exercise 15. Make a bar plot of the median of the prices and explain what you observe (you must use the subset obtained in Exercise 14) (★★★)\n",
    "\n",
    "Print the bar of the median of the prices and write in the Markdown cell a brief analysis about the plot."
   ]
  },
  {
   "cell_type": "code",
   "execution_count": 8,
   "id": "lyric-bunch",
   "metadata": {},
   "outputs": [
    {
     "data": {
      "image/png": "[encoded data removed]",
      "text/plain": [
       "<Figure size 1000x600 with 1 Axes>"
      ]
     },
     "metadata": {},
     "output_type": "display_data"
    }
   ],
   "source": [
    "# TODO: Code\n",
    "\n",
    "import pandas as pd\n",
    "import matplotlib.pyplot as plt\n",
    "\n",
    "# Cargar el dataset\n",
    "data_set = pd.read_csv('assets/real_estate.csv', sep=';')\n",
    "\n",
    "# Convertir el dataset en un DataFrame\n",
    "ds = pd.DataFrame(data_set)\n",
    "\n",
    "# Definir las poblaciones del cinturón sur de Madrid\n",
    "south_belt_populations = [\"Fuenlabrada\", \"Leganés\", \"Getafe\", \"Alcorcón\"]\n",
    "\n",
    "# Filtrar el DataFrame para obtener solo las poblaciones del cinturón sur\n",
    "south_belt_df = ds[ds['level5'].isin(south_belt_populations)]\n",
    "\n",
    "# Calcular la mediana de los precios\n",
    "# Asegúrate de que la columna de precios se llama 'price', cambia el nombre si es necesario\n",
    "median_price = south_belt_df['price'].median()\n",
    "\n",
    "# Crear el gráfico de barras\n",
    "plt.figure(figsize=(10, 6))\n",
    "plt.bar(['Median Price'], [median_price], color='skyblue')\n",
    "plt.ylabel('Price')\n",
    "plt.title('Median Price of Real Estates in South Belt of Madrid')\n",
    "plt.show()\n",
    "\n"
   ]
  },
  {
   "attachments": {},
   "cell_type": "markdown",
   "id": "sublime-newspaper",
   "metadata": {},
   "source": [
    "**TODO: Markdown**. To write here, double-click on this cell, remove this content and place the text you want to write. Then, execute the cell."
   ]
  },
  {
   "attachments": {},
   "cell_type": "markdown",
   "id": "speaking-diamond",
   "metadata": {},
   "source": [
    "#### Exercise 16. Calculate the sample mean and variance of the variables: price, rooms, surface area and bathrooms (you must use the subset obtained in Exercise 14) (★★★)\n",
    "\n",
    "Print both values for each variable."
   ]
  },
  {
   "cell_type": "code",
   "execution_count": 10,
   "id": "random-feeling",
   "metadata": {},
   "outputs": [
    {
     "name": "stdout",
     "output_type": "stream",
     "text": [
      "Index(['Unnamed: 0', 'id_realEstates', 'isNew', 'realEstate_name',\n",
      "       'phone_realEstate', 'url_inmueble', 'rooms', 'bathrooms', 'surface',\n",
      "       'price', 'date', 'description', 'address', 'country', 'level1',\n",
      "       'level2', 'level3', 'level4', 'level5', 'level6', 'level7', 'level8',\n",
      "       'upperLevel', 'countryId', 'level1Id', 'level2Id', 'level3Id',\n",
      "       'level4Id', 'level5Id', 'level6Id', 'level7Id', 'level8Id', 'accuracy',\n",
      "       'latitude', 'longitude', 'zipCode', 'customZone'],\n",
      "      dtype='object')\n",
      "Price - Mean: 223094.48, Variance: 14921367508.05\n",
      "Rooms - Mean: 3.02, Variance: 0.72\n",
      "Column \"surface area\" not found in the DataFrame.\n",
      "Bathrooms - Mean: 1.63, Variance: 0.57\n"
     ]
    }
   ],
   "source": [
    "# TODO\n",
    "\n",
    "import pandas as pd\n",
    "\n",
    "# Cargar el dataset\n",
    "data_set = pd.read_csv('assets/real_estate.csv', sep=';')\n",
    "\n",
    "# Convertir el dataset en un DataFrame\n",
    "ds = pd.DataFrame(data_set)\n",
    "\n",
    "# Definir las poblaciones del cinturón sur de Madrid\n",
    "south_belt_populations = [\"Fuenlabrada\", \"Leganés\", \"Getafe\", \"Alcorcón\"]\n",
    "\n",
    "# Filtrar el DataFrame para obtener solo las poblaciones del cinturón sur\n",
    "south_belt_df = ds[ds['level5'].isin(south_belt_populations)]\n",
    "\n",
    "# Limpiar nombres de columnas (eliminar espacios al principio y al final)\n",
    "south_belt_df.columns = south_belt_df.columns.str.strip()\n",
    "\n",
    "# Verificar los nombres de las columnas\n",
    "print(south_belt_df.columns)\n",
    "\n",
    "# Calcular la media y varianza para cada variable\n",
    "variables = ['price', 'rooms', 'surface area', 'bathrooms']\n",
    "\n",
    "for var in variables:\n",
    "    if var in south_belt_df.columns:\n",
    "        mean = south_belt_df[var].mean()\n",
    "        variance = south_belt_df[var].var()\n",
    "        print(f'{var.capitalize()} - Mean: {mean:.2f}, Variance: {variance:.2f}')\n",
    "    else:\n",
    "        print(f'Column \"{var}\" not found in the DataFrame.')\n",
    "\n"
   ]
  },
  {
   "attachments": {},
   "cell_type": "markdown",
   "id": "revolutionary-matrix",
   "metadata": {},
   "source": [
    "#### Exercise 17. What is the most expensive house in each population? You must use the subset obtained in Exercise 14 (★★☆)\n",
    "\n",
    "Print both the address and the price of the selected house of each population. You can print a DataFrame or a single line for each population."
   ]
  },
  {
   "cell_type": "code",
   "execution_count": 11,
   "id": "fifteen-browse",
   "metadata": {},
   "outputs": [
    {
     "name": "stdout",
     "output_type": "stream",
     "text": [
      "            level5                                address    price\n",
      "5585      Alcorcón                               Alcorcón   950000\n",
      "11561  Fuenlabrada  Calle de Paulo Freire, 5, Fuenlabrada   490000\n",
      "2881        Getafe                                 Getafe  1050000\n",
      "10412      Leganés           Avenida Reina Sofía, Leganés   650000\n"
     ]
    }
   ],
   "source": [
    "# TODO\n",
    "\n",
    "import pandas as pd\n",
    "\n",
    "# Cargar el dataset\n",
    "data_set = pd.read_csv('assets/real_estate.csv', sep=';')\n",
    "\n",
    "# Convertir el dataset en un DataFrame\n",
    "ds = pd.DataFrame(data_set)\n",
    "\n",
    "# Definir las poblaciones del cinturón sur de Madrid\n",
    "south_belt_populations = [\"Fuenlabrada\", \"Leganés\", \"Getafe\", \"Alcorcón\"]\n",
    "\n",
    "# Filtrar el DataFrame para obtener solo las poblaciones del cinturón sur\n",
    "south_belt_df = ds[ds['level5'].isin(south_belt_populations)]\n",
    "\n",
    "# Limpiar nombres de columnas (eliminar espacios al principio y al final)\n",
    "south_belt_df.columns = south_belt_df.columns.str.strip()\n",
    "\n",
    "# Encontrar la casa más cara en cada población\n",
    "most_expensive_houses = south_belt_df.loc[south_belt_df.groupby('level5')['price'].idxmax()]\n",
    "\n",
    "# Seleccionar columnas relevantes\n",
    "most_expensive_houses = most_expensive_houses[['level5', 'address', 'price']]\n",
    "\n",
    "# Imprimir los resultados\n",
    "print(most_expensive_houses)\n"
   ]
  },
  {
   "attachments": {},
   "cell_type": "markdown",
   "id": "activated-knight",
   "metadata": {},
   "source": [
    "#### Exercise 18. Normalize the variable of prices for each population and plot the 4 histograms in the same plot (you must use the subset obtained in Exercise 14) (★★★)\n",
    "\n",
    "For the normalization method, you can use the one you consider; there is not a single correct answer to this question. Print the plot and write in the Markdown cell a brief analysis about the plot.\n",
    "\n",
    "Hint: You can help yourself by reviewing the *multihist* demo of Matplotlib."
   ]
  },
  {
   "cell_type": "code",
   "execution_count": 12,
   "id": "civic-meditation",
   "metadata": {},
   "outputs": [
    {
     "name": "stderr",
     "output_type": "stream",
     "text": [
      "/tmp/ipykernel_707/837565073.py:32: SettingWithCopyWarning: \n",
      "A value is trying to be set on a copy of a slice from a DataFrame.\n",
      "Try using .loc[row_indexer,col_indexer] = value instead\n",
      "\n",
      "See the caveats in the documentation: https://pandas.pydata.org/pandas-docs/stable/user_guide/indexing.html#returning-a-view-versus-a-copy\n",
      "  pop_df['normalized_price'] = (pop_df['price'] - mean_price) / std_price\n",
      "/tmp/ipykernel_707/837565073.py:32: SettingWithCopyWarning: \n",
      "A value is trying to be set on a copy of a slice from a DataFrame.\n",
      "Try using .loc[row_indexer,col_indexer] = value instead\n",
      "\n",
      "See the caveats in the documentation: https://pandas.pydata.org/pandas-docs/stable/user_guide/indexing.html#returning-a-view-versus-a-copy\n",
      "  pop_df['normalized_price'] = (pop_df['price'] - mean_price) / std_price\n",
      "/tmp/ipykernel_707/837565073.py:32: SettingWithCopyWarning: \n",
      "A value is trying to be set on a copy of a slice from a DataFrame.\n",
      "Try using .loc[row_indexer,col_indexer] = value instead\n",
      "\n",
      "See the caveats in the documentation: https://pandas.pydata.org/pandas-docs/stable/user_guide/indexing.html#returning-a-view-versus-a-copy\n",
      "  pop_df['normalized_price'] = (pop_df['price'] - mean_price) / std_price\n",
      "/tmp/ipykernel_707/837565073.py:32: SettingWithCopyWarning: \n",
      "A value is trying to be set on a copy of a slice from a DataFrame.\n",
      "Try using .loc[row_indexer,col_indexer] = value instead\n",
      "\n",
      "See the caveats in the documentation: https://pandas.pydata.org/pandas-docs/stable/user_guide/indexing.html#returning-a-view-versus-a-copy\n",
      "  pop_df['normalized_price'] = (pop_df['price'] - mean_price) / std_price\n"
     ]
    },
    {
     "data": {
      "image/png": "[encoded data removed]",
      "text/plain": [
       "<Figure size 1400x800 with 1 Axes>"
      ]
     },
     "metadata": {},
     "output_type": "display_data"
    }
   ],
   "source": [
    "# TODO\n",
    "\n",
    "import pandas as pd\n",
    "import matplotlib.pyplot as plt\n",
    "import seaborn as sns\n",
    "\n",
    "# Cargar el dataset\n",
    "data_set = pd.read_csv('assets/real_estate.csv', sep=';')\n",
    "\n",
    "# Convertir el dataset en un DataFrame\n",
    "ds = pd.DataFrame(data_set)\n",
    "\n",
    "# Definir las poblaciones del cinturón sur de Madrid\n",
    "south_belt_populations = [\"Fuenlabrada\", \"Leganés\", \"Getafe\", \"Alcorcón\"]\n",
    "\n",
    "# Filtrar el DataFrame para obtener solo las poblaciones del cinturón sur\n",
    "south_belt_df = ds[ds['level5'].isin(south_belt_populations)]\n",
    "\n",
    "# Limpiar nombres de columnas (eliminar espacios al principio y al final)\n",
    "south_belt_df.columns = south_belt_df.columns.str.strip()\n",
    "\n",
    "# Normalizar los precios para cada población y plotear los histogramas\n",
    "plt.figure(figsize=(14, 8))\n",
    "\n",
    "for population in south_belt_populations:\n",
    "    # Filtrar datos para la población actual\n",
    "    pop_df = south_belt_df[south_belt_df['level5'] == population]\n",
    "    \n",
    "    # Normalizar los precios\n",
    "    mean_price = pop_df['price'].mean()\n",
    "    std_price = pop_df['price'].std()\n",
    "    pop_df['normalized_price'] = (pop_df['price'] - mean_price) / std_price\n",
    "    \n",
    "    # Crear histograma\n",
    "    sns.histplot(pop_df['normalized_price'], kde=False, label=population, bins=30, alpha=0.6)\n",
    "\n",
    "plt.xlabel('Normalized Price')\n",
    "plt.ylabel('Frequency')\n",
    "plt.title('Normalized Price Histograms for Each Population')\n",
    "plt.legend(title='Population')\n",
    "plt.show()\n"
   ]
  },
  {
   "attachments": {},
   "cell_type": "markdown",
   "id": "precise-heavy",
   "metadata": {},
   "source": [
    "**TODO: Markdown**. To write here, double-click on this cell, remove this content and place the text you want to write. Then, execute the cell."
   ]
  },
  {
   "attachments": {},
   "cell_type": "markdown",
   "id": "patent-jonathan",
   "metadata": {},
   "source": [
    "#### Exercise 19. What can you say about the price per square meter (price/m2) between the towns of \"Getafe\" and \"Alcorcón\"? You must use the subset obtained in Exercise 14 (★★☆)\n",
    "\n",
    "Hint: Create a new column called `pps` (price per square meter) and then analyze the values."
   ]
  },
  {
   "cell_type": "code",
   "execution_count": 18,
   "id": "initial-liverpool",
   "metadata": {},
   "outputs": [
    {
     "name": "stdout",
     "output_type": "stream",
     "text": [
      "Index(['Unnamed: 0', 'id_realEstates', 'isNew', 'realEstate_name',\n",
      "       'phone_realEstate', 'url_inmueble', 'rooms', 'bathrooms', 'surface',\n",
      "       'price', 'date', 'description', 'address', 'country', 'level1',\n",
      "       'level2', 'level3', 'level4', 'level5', 'level6', 'level7', 'level8',\n",
      "       'upperLevel', 'countryId', 'level1Id', 'level2Id', 'level3Id',\n",
      "       'level4Id', 'level5Id', 'level6Id', 'level7Id', 'level8Id', 'accuracy',\n",
      "       'latitude', 'longitude', 'zipCode', 'customZone'],\n",
      "      dtype='object')\n",
      "Column 'surface_area' not found in the DataFrame.\n"
     ]
    }
   ],
   "source": [
    "# TODO\n",
    "\n",
    "import pandas as pd\n",
    "\n",
    "# Cargar el dataset\n",
    "data_set = pd.read_csv('assets/real_estate.csv', sep=';')\n",
    "\n",
    "# Convertir el dataset en un DataFrame\n",
    "ds = pd.DataFrame(data_set)\n",
    "\n",
    "# Definir las poblaciones del cinturón sur de Madrid\n",
    "south_belt_populations = [\"Fuenlabrada\", \"Leganés\", \"Getafe\", \"Alcorcón\"]\n",
    "\n",
    "# Filtrar el DataFrame para obtener solo las poblaciones del cinturón sur\n",
    "south_belt_df = ds[ds['level5'].isin(south_belt_populations)].copy()\n",
    "\n",
    "# Limpiar nombres de columnas (eliminar espacios al principio y al final)\n",
    "south_belt_df.columns = south_belt_df.columns.str.strip()\n",
    "\n",
    "# Imprimir los nombres de columnas para verificar\n",
    "print(south_belt_df.columns)\n",
    "\n",
    "# Convertir columnas a numéricas, manejar errores y valores nulos usando .loc\n",
    "south_belt_df.loc[:, 'price'] = pd.to_numeric(south_belt_df['price'], errors='coerce')\n",
    "\n",
    "# Asegurarse de que la columna 'surface_area' esté presente\n",
    "if 'surface_area' in south_belt_df.columns:\n",
    "    south_belt_df.loc[:, 'surface_area'] = pd.to_numeric(south_belt_df['surface_area'], errors='coerce')\n",
    "\n",
    "    # Reemplazar valores cero en 'surface_area' por NaN y eliminar filas con NaN usando .loc\n",
    "    south_belt_df.loc[south_belt_df['surface_area'] == 0, 'surface_area'] = pd.NA\n",
    "    south_belt_df = south_belt_df.dropna(subset=['price', 'surface_area'])\n",
    "\n",
    "    # Crear la nueva columna 'pps' (precio por metro cuadrado)\n",
    "    south_belt_df['pps'] = south_belt_df['price'] / south_belt_df['surface_area']\n",
    "\n",
    "    # Filtrar los datos para Getafe y Alcorcón\n",
    "    getafe_df = south_belt_df[south_belt_df['level5'] == 'Getafe']\n",
    "    alcorcon_df = south_belt_df[south_belt_df['level5'] == 'Alcorcón']\n",
    "\n",
    "    # Analizar los valores de 'pps'\n",
    "    getafe_pps_mean = getafe_df['pps'].mean()\n",
    "    getafe_pps_std = getafe_df['pps'].std()\n",
    "    alcorcon_pps_mean = alcorcon_df['pps'].mean()\n",
    "    alcorcon_pps_std = alcorcon_df['pps'].std()\n",
    "\n",
    "    print(f'Getafe - Mean pps: {getafe_pps_mean:.2f}, Std: {getafe_pps_std:.2f}')\n",
    "    print(f'Alcorcón - Mean pps: {alcorcon_pps_mean:.2f}, Std: {alcorcon_pps_std:.2f}')\n",
    "\n",
    "    # Imprimir un resumen estadístico para una comparación más completa\n",
    "    print(\"\\nSummary Statistics for Getafe:\")\n",
    "    print(getafe_df['pps'].describe())\n",
    "\n",
    "    print(\"\\nSummary Statistics for Alcorcón:\")\n",
    "    print(alcorcon_df['pps'].describe())\n",
    "else:\n",
    "    print(\"Column 'surface_area' not found in the DataFrame.\")\n",
    "\n",
    "\n",
    "\n",
    "\n",
    "\n",
    "\n",
    "\n",
    "\n",
    "\n",
    "\n",
    "\n",
    "\n",
    "\n"
   ]
  },
  {
   "attachments": {},
   "cell_type": "markdown",
   "id": "enhanced-moscow",
   "metadata": {},
   "source": [
    "#### Exercise 20. Make the same plot for 4 different populations (level5 column) and rearrange them on the same graph. You must use the subset obtained in Exercise 14 (★★☆)\n",
    " \n",
    "Hint: Make a scatter plot of each population using subplots."
   ]
  },
  {
   "cell_type": "code",
   "execution_count": 22,
   "id": "accepting-airfare",
   "metadata": {},
   "outputs": [
    {
     "name": "stdout",
     "output_type": "stream",
     "text": [
      "Column names: Index(['Unnamed: 0', 'id_realEstates', 'isNew', 'realEstate_name',\n",
      "       'phone_realEstate', 'url_inmueble', 'rooms', 'bathrooms', 'surface',\n",
      "       'price', 'date', 'description', 'address', 'country', 'level1',\n",
      "       'level2', 'level3', 'level4', 'level5', 'level6', 'level7', 'level8',\n",
      "       'upperLevel', 'countryId', 'level1Id', 'level2Id', 'level3Id',\n",
      "       'level4Id', 'level5Id', 'level6Id', 'level7Id', 'level8Id', 'accuracy',\n",
      "       'latitude', 'longitude', 'zipCode', 'customZone'],\n",
      "      dtype='object')\n",
      "One or both columns 'price' and 'surface_area' are missing in the DataFrame.\n"
     ]
    }
   ],
   "source": [
    "# TODO\n",
    "\n",
    "import pandas as pd\n",
    "import matplotlib.pyplot as plt\n",
    "\n",
    "# Cargar el dataset\n",
    "data_set = pd.read_csv('assets/real_estate.csv', sep=';')\n",
    "\n",
    "# Convertir el dataset en un DataFrame\n",
    "ds = pd.DataFrame(data_set)\n",
    "\n",
    "# Definir las poblaciones del cinturón sur de Madrid\n",
    "south_belt_populations = [\"Fuenlabrada\", \"Leganés\", \"Getafe\", \"Alcorcón\"]\n",
    "\n",
    "# Filtrar el DataFrame para obtener solo las poblaciones del cinturón sur\n",
    "south_belt_df = ds[ds['level5'].isin(south_belt_populations)].copy()\n",
    "\n",
    "# Limpiar nombres de columnas (eliminar espacios al principio y al final)\n",
    "south_belt_df.columns = south_belt_df.columns.str.strip()\n",
    "\n",
    "# Verificar nombres de columnas\n",
    "print(\"Column names:\", south_belt_df.columns)\n",
    "\n",
    "# Asegúrate de que las columnas 'price' y 'surface_area' existen y son numéricas\n",
    "if 'price' in south_belt_df.columns and 'surface_area' in south_belt_df.columns:\n",
    "    south_belt_df['price'] = pd.to_numeric(south_belt_df['price'], errors='coerce')\n",
    "    south_belt_df['surface_area'] = pd.to_numeric(south_belt_df['surface_area'], errors='coerce')\n",
    "\n",
    "    # Reemplazar valores cero en 'surface_area' por NaN y eliminar filas con NaN\n",
    "    south_belt_df.loc[south_belt_df['surface_area'] == 0, 'surface_area'] = pd.NA\n",
    "    south_belt_df = south_belt_df.dropna(subset=['price', 'surface_area'])\n",
    "\n",
    "    # Crear la nueva columna 'pps' (precio por metro cuadrado)\n",
    "    south_belt_df['pps'] = south_belt_df['price'] / south_belt_df['surface_area']\n",
    "\n",
    "    # Configurar la figura y los ejes para los subplots\n",
    "    fig, axs = plt.subplots(2, 2, figsize=(12, 10), sharex=True, sharey=True)\n",
    "\n",
    "    # Lista de poblaciones para graficar\n",
    "    populations = south_belt_populations\n",
    "\n",
    "    # Crear gráficos de dispersión para cada población\n",
    "    for ax, population in zip(axs.flat, populations):\n",
    "        pop_df = south_belt_df[south_belt_df['level5'] == population]\n",
    "        \n",
    "        if not pop_df.empty:\n",
    "            ax.scatter(pop_df['surface_area'], pop_df['price'], alpha=0.5, label=population)\n",
    "            ax.set_title(population)\n",
    "            ax.set_xlabel('Surface Area (m²)')\n",
    "            ax.set_ylabel('Price')\n",
    "            ax.legend()\n",
    "        else:\n",
    "            ax.set_title(f'{population} (No data)')\n",
    "            ax.set_xlabel('Surface Area (m²)')\n",
    "            ax.set_ylabel('Price')\n",
    "\n",
    "    # Ajustar el diseño del gráfico\n",
    "    plt.tight_layout()\n",
    "    plt.show()\n",
    "else:\n",
    "    print(\"One or both columns 'price' and 'surface_area' are missing in the DataFrame.\")\n",
    "\n",
    "\n",
    "\n",
    "\n",
    "\n"
   ]
  },
  {
   "attachments": {},
   "cell_type": "markdown",
   "id": "blocked-effects",
   "metadata": {},
   "source": [
    "#### Exercise 21. Make a plot of the coordinates (latitude and longitude columns) of the south belt of Madrid by color of each population (you must use the subset obtained in Exercise 14) (★★★★)\n",
    "\n",
    "Execute the following cell, and then start coding in the next one. You must implement a simple code that transforms the coordinates columns in a Python dictionary (add more information if needed) and then add it to the map"
   ]
  },
  {
   "cell_type": "code",
   "execution_count": 26,
   "id": "headed-privacy",
   "metadata": {},
   "outputs": [
    {
     "data": {
      "application/vnd.jupyter.widget-view+json": {
       "model_id": "1f3ace23d9ec47d48d074959db84dafb",
       "version_major": 2,
       "version_minor": 0
      },
      "text/plain": [
       "Map(center=[40.35, -3.75], controls=(ZoomControl(options=['position', 'zoom_in_text', 'zoom_in_title', 'zoom_o…"
      ]
     },
     "execution_count": 26,
     "metadata": {},
     "output_type": "execute_result"
    }
   ],
   "source": [
    "from ipyleaflet import Map, basemaps, Marker\n",
    "import pandas as pd\n",
    "\n",
    "# Cargar el dataset\n",
    "data_set = pd.read_csv('assets/real_estate.csv', sep=';')\n",
    "\n",
    "# Convertir el dataset en un DataFrame\n",
    "ds = pd.DataFrame(data_set)\n",
    "\n",
    "# Definir las poblaciones del cinturón sur de Madrid\n",
    "south_belt_populations = [\"Fuenlabrada\", \"Leganés\", \"Getafe\", \"Alcorcón\"]\n",
    "\n",
    "# Filtrar el DataFrame para obtener solo las poblaciones del cinturón sur\n",
    "south_belt_df = ds[ds['level5'].isin(south_belt_populations)].copy()\n",
    "\n",
    "# Limpiar nombres de columnas (eliminar espacios al principio y al final)\n",
    "south_belt_df.columns = south_belt_df.columns.str.strip()\n",
    "\n",
    "# Asegurarse de que las columnas de coordenadas existen y son numéricas\n",
    "south_belt_df['latitude'] = pd.to_numeric(south_belt_df['latitude'], errors='coerce')\n",
    "south_belt_df['longitude'] = pd.to_numeric(south_belt_df['longitude'], errors='coerce')\n",
    "\n",
    "# Eliminar filas con valores NaN en las coordenadas\n",
    "south_belt_df = south_belt_df.dropna(subset=['latitude', 'longitude'])\n",
    "\n",
    "# Crear el mapa con un basemap alternativo\n",
    "map = Map(center=(40.35, -3.75), zoom=10, min_zoom=1, max_zoom=20, basemap=basemaps.OpenStreetMap.Mapnik)\n",
    "\n",
    "# Añadir marcadores al mapa\n",
    "for population in south_belt_populations:\n",
    "    subset = south_belt_df[south_belt_df['level5'] == population]\n",
    "    for _, row in subset.iterrows():\n",
    "        marker = Marker(location=(row['latitude'], row['longitude']), title=population)\n",
    "        map.add_layer(marker)\n",
    "\n",
    "map\n",
    "\n",
    "\n",
    "\n",
    "\n",
    "\n",
    "\n",
    "\n",
    "\n",
    "\n"
   ]
  },
  {
   "cell_type": "code",
   "execution_count": null,
   "id": "present-mistress",
   "metadata": {},
   "outputs": [],
   "source": [
    "## HERE: plot the coordinates of the estates\n",
    "\n",
    "## PUT HERE YOUR CODE:\n"
   ]
  }
 ],
 "metadata": {
  "kernelspec": {
   "display_name": "Python 3",
   "language": "python",
   "name": "python3"
  },
  "language_info": {
   "codemirror_mode": {
    "name": "ipython",
    "version": 3
   },
   "file_extension": ".py",
   "mimetype": "text/x-python",
   "name": "python",
   "nbconvert_exporter": "python",
   "pygments_lexer": "ipython3",
   "version": "3.11.4"
  }
 },
 "nbformat": 4,
 "nbformat_minor": 5
}
